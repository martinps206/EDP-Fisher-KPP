{
 "cells": [
  {
   "cell_type": "code",
   "execution_count": null,
   "id": "ea116dcf",
   "metadata": {
    "vscode": {
     "languageId": "plaintext"
    }
   },
   "outputs": [],
   "source": [
    "from solvers.explicit_solver import solve_fisher_kpp\n",
    "import matplotlib.pyplot as plt\n",
    "\n",
    "D_values = [1e-6, 5e-6, 1e-5]\n",
    "colors = [\"blue\", \"green\", \"red\"]\n",
    "\n",
    "for D, color in zip(D_values, colors):\n",
    "    x, U = solve_fisher_kpp(D=D, r=0.2, K=1.0, L=1.0, T=10.0, Nx=100, Nt=1000)\n",
    "    plt.plot(x, U[-1], label=f\"D={D}\", color=color)\n",
    "\n",
    "plt.title(\"Sensibilidad al parámetro D\")\n",
    "plt.xlabel(\"x\")\n",
    "plt.ylabel(\"u(x, t_final)\")\n",
    "plt.legend()\n",
    "plt.grid()\n",
    "plt.show()"
   ]
  }
 ],
 "metadata": {
  "language_info": {
   "name": "python"
  }
 },
 "nbformat": 4,
 "nbformat_minor": 5
}
